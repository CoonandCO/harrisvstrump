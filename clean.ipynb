{
 "cells": [
  {
   "cell_type": "code",
   "execution_count": 73,
   "metadata": {},
   "outputs": [],
   "source": [
    "import pandas as pd\n",
    "import numpy as np\n",
    "import matplotlib\n",
    "import matplotlib.pyplot as plt\n",
    "import seaborn as sns\n",
    "import string\n",
    "import tensorflow_datasets as tfds\n",
    "from tensorflow.keras.preprocessing.text import text_to_word_sequence"
   ]
  },
  {
   "cell_type": "code",
   "execution_count": 74,
   "metadata": {},
   "outputs": [],
   "source": [
    "df = pd.read_csv('data/leg16-seances.csv')\n",
    "data = pd.read_csv('data/leg16-seances.csv')"
   ]
  },
  {
   "cell_type": "code",
   "execution_count": 75,
   "metadata": {},
   "outputs": [
    {
     "data": {
      "text/html": [
       "<div>\n",
       "<style scoped>\n",
       "    .dataframe tbody tr th:only-of-type {\n",
       "        vertical-align: middle;\n",
       "    }\n",
       "\n",
       "    .dataframe tbody tr th {\n",
       "        vertical-align: top;\n",
       "    }\n",
       "\n",
       "    .dataframe thead th {\n",
       "        text-align: right;\n",
       "    }\n",
       "</style>\n",
       "<table border=\"1\" class=\"dataframe\">\n",
       "  <thead>\n",
       "    <tr style=\"text-align: right;\">\n",
       "      <th></th>\n",
       "      <th>Nom Orateur</th>\n",
       "      <th>ID Orateur</th>\n",
       "      <th>Texte</th>\n",
       "      <th>Thème Séance</th>\n",
       "      <th>ID Séance</th>\n",
       "      <th>Date Séance</th>\n",
       "      <th>ID Session</th>\n",
       "      <th>grammaire</th>\n",
       "    </tr>\n",
       "  </thead>\n",
       "  <tbody>\n",
       "    <tr>\n",
       "      <th>0</th>\n",
       "      <td>Mme la présidente</td>\n",
       "      <td>719874</td>\n",
       "      <td>La séance est ouverte.</td>\n",
       "      <td>Accélération des procédures liées à la constru...</td>\n",
       "      <td>RUANR5L16S2023IDS26877</td>\n",
       "      <td>lundi 13 mars 2023</td>\n",
       "      <td>SCR5A2023O1</td>\n",
       "      <td>OUV_SEAN_2_1</td>\n",
       "    </tr>\n",
       "    <tr>\n",
       "      <th>1</th>\n",
       "      <td>Mme la présidente</td>\n",
       "      <td>719874</td>\n",
       "      <td>L’ordre du jour appelle la discussion du proje...</td>\n",
       "      <td>Accélération des procédures liées à la constru...</td>\n",
       "      <td>RUANR5L16S2023IDS26877</td>\n",
       "      <td>lundi 13 mars 2023</td>\n",
       "      <td>SCR5A2023O1</td>\n",
       "      <td>ODJ_APPEL_DISCUSSION</td>\n",
       "    </tr>\n",
       "    <tr>\n",
       "      <th>2</th>\n",
       "      <td>Mme la présidente</td>\n",
       "      <td>719874</td>\n",
       "      <td>La parole est à Mme la ministre de la transiti...</td>\n",
       "      <td>Accélération des procédures liées à la constru...</td>\n",
       "      <td>RUANR5L16S2023IDS26877</td>\n",
       "      <td>lundi 13 mars 2023</td>\n",
       "      <td>SCR5A2023O1</td>\n",
       "      <td>PAROLE_GENERIQUE</td>\n",
       "    </tr>\n",
       "    <tr>\n",
       "      <th>3</th>\n",
       "      <td>Mme Agnès Pannier-Runacher</td>\n",
       "      <td>759832</td>\n",
       "      <td>Après la promulgation, vendredi, de la loi rel...</td>\n",
       "      <td>Accélération des procédures liées à la constru...</td>\n",
       "      <td>RUANR5L16S2023IDS26877</td>\n",
       "      <td>lundi 13 mars 2023</td>\n",
       "      <td>SCR5A2023O1</td>\n",
       "      <td>PAROLE_GENERIQUE</td>\n",
       "    </tr>\n",
       "    <tr>\n",
       "      <th>4</th>\n",
       "      <td>M. Guillaume Kasbarian</td>\n",
       "      <td>719372</td>\n",
       "      <td>Elle a raison !</td>\n",
       "      <td>Accélération des procédures liées à la constru...</td>\n",
       "      <td>RUANR5L16S2023IDS26877</td>\n",
       "      <td>lundi 13 mars 2023</td>\n",
       "      <td>SCR5A2023O1</td>\n",
       "      <td>INTERRUPTION_1_10</td>\n",
       "    </tr>\n",
       "    <tr>\n",
       "      <th>...</th>\n",
       "      <td>...</td>\n",
       "      <td>...</td>\n",
       "      <td>...</td>\n",
       "      <td>...</td>\n",
       "      <td>...</td>\n",
       "      <td>...</td>\n",
       "      <td>...</td>\n",
       "      <td>...</td>\n",
       "    </tr>\n",
       "    <tr>\n",
       "      <th>312092</th>\n",
       "      <td>M. Gérard Leseul (SOC)</td>\n",
       "      <td>774958</td>\n",
       "      <td>Je remercie le groupe GDR-NUPES d’avoir mis ce...</td>\n",
       "      <td>Réforme des retraites et pénibilité</td>\n",
       "      <td>RUANR5L16S2023IDS26837</td>\n",
       "      <td>lundi 27 février 2023</td>\n",
       "      <td>SCR5A2023O1</td>\n",
       "      <td>PAROLE_GENERIQUE</td>\n",
       "    </tr>\n",
       "    <tr>\n",
       "      <th>312093</th>\n",
       "      <td>Mme la présidente</td>\n",
       "      <td>720908</td>\n",
       "      <td>La parole est à M. le ministre.</td>\n",
       "      <td>Réforme des retraites et pénibilité</td>\n",
       "      <td>RUANR5L16S2023IDS26837</td>\n",
       "      <td>lundi 27 février 2023</td>\n",
       "      <td>SCR5A2023O1</td>\n",
       "      <td>PAROLE_GENERIQUE</td>\n",
       "    </tr>\n",
       "    <tr>\n",
       "      <th>312094</th>\n",
       "      <td>M. Stanislas Guerini</td>\n",
       "      <td>721498</td>\n",
       "      <td>Je le dis sous le contrôle de Mme la président...</td>\n",
       "      <td>Réforme des retraites et pénibilité</td>\n",
       "      <td>RUANR5L16S2023IDS26837</td>\n",
       "      <td>lundi 27 février 2023</td>\n",
       "      <td>SCR5A2023O1</td>\n",
       "      <td>PAROLE_GENERIQUE</td>\n",
       "    </tr>\n",
       "    <tr>\n",
       "      <th>312095</th>\n",
       "      <td>Mme la présidente</td>\n",
       "      <td>720908</td>\n",
       "      <td>Le débat est clos.</td>\n",
       "      <td>Réforme des retraites et pénibilité</td>\n",
       "      <td>RUANR5L16S2023IDS26837</td>\n",
       "      <td>lundi 27 février 2023</td>\n",
       "      <td>SCR5A2023O1</td>\n",
       "      <td>PAROLE_GENERIQUE</td>\n",
       "    </tr>\n",
       "    <tr>\n",
       "      <th>312096</th>\n",
       "      <td>Mme la présidente</td>\n",
       "      <td>720908</td>\n",
       "      <td>Prochaine séance, ce soir, à vingt et une heur...</td>\n",
       "      <td>Réforme des retraites et pénibilité</td>\n",
       "      <td>RUANR5L16S2023IDS26837</td>\n",
       "      <td>lundi 27 février 2023</td>\n",
       "      <td>SCR5A2023O1</td>\n",
       "      <td>FIN_SEAN_2_1</td>\n",
       "    </tr>\n",
       "  </tbody>\n",
       "</table>\n",
       "<p>312097 rows × 8 columns</p>\n",
       "</div>"
      ],
      "text/plain": [
       "                       Nom Orateur  ID Orateur  \\\n",
       "0                Mme la présidente      719874   \n",
       "1                Mme la présidente      719874   \n",
       "2                Mme la présidente      719874   \n",
       "3       Mme Agnès Pannier-Runacher      759832   \n",
       "4           M. Guillaume Kasbarian      719372   \n",
       "...                            ...         ...   \n",
       "312092      M. Gérard Leseul (SOC)      774958   \n",
       "312093           Mme la présidente      720908   \n",
       "312094        M. Stanislas Guerini      721498   \n",
       "312095           Mme la présidente      720908   \n",
       "312096           Mme la présidente      720908   \n",
       "\n",
       "                                                    Texte  \\\n",
       "0                                  La séance est ouverte.   \n",
       "1       L’ordre du jour appelle la discussion du proje...   \n",
       "2       La parole est à Mme la ministre de la transiti...   \n",
       "3       Après la promulgation, vendredi, de la loi rel...   \n",
       "4                                         Elle a raison !   \n",
       "...                                                   ...   \n",
       "312092  Je remercie le groupe GDR-NUPES d’avoir mis ce...   \n",
       "312093                    La parole est à M. le ministre.   \n",
       "312094  Je le dis sous le contrôle de Mme la président...   \n",
       "312095                                 Le débat est clos.   \n",
       "312096  Prochaine séance, ce soir, à vingt et une heur...   \n",
       "\n",
       "                                             Thème Séance  \\\n",
       "0       Accélération des procédures liées à la constru...   \n",
       "1       Accélération des procédures liées à la constru...   \n",
       "2       Accélération des procédures liées à la constru...   \n",
       "3       Accélération des procédures liées à la constru...   \n",
       "4       Accélération des procédures liées à la constru...   \n",
       "...                                                   ...   \n",
       "312092                Réforme des retraites et pénibilité   \n",
       "312093                Réforme des retraites et pénibilité   \n",
       "312094                Réforme des retraites et pénibilité   \n",
       "312095                Réforme des retraites et pénibilité   \n",
       "312096                Réforme des retraites et pénibilité   \n",
       "\n",
       "                     ID Séance            Date Séance   ID Session  \\\n",
       "0       RUANR5L16S2023IDS26877     lundi 13 mars 2023  SCR5A2023O1   \n",
       "1       RUANR5L16S2023IDS26877     lundi 13 mars 2023  SCR5A2023O1   \n",
       "2       RUANR5L16S2023IDS26877     lundi 13 mars 2023  SCR5A2023O1   \n",
       "3       RUANR5L16S2023IDS26877     lundi 13 mars 2023  SCR5A2023O1   \n",
       "4       RUANR5L16S2023IDS26877     lundi 13 mars 2023  SCR5A2023O1   \n",
       "...                        ...                    ...          ...   \n",
       "312092  RUANR5L16S2023IDS26837  lundi 27 février 2023  SCR5A2023O1   \n",
       "312093  RUANR5L16S2023IDS26837  lundi 27 février 2023  SCR5A2023O1   \n",
       "312094  RUANR5L16S2023IDS26837  lundi 27 février 2023  SCR5A2023O1   \n",
       "312095  RUANR5L16S2023IDS26837  lundi 27 février 2023  SCR5A2023O1   \n",
       "312096  RUANR5L16S2023IDS26837  lundi 27 février 2023  SCR5A2023O1   \n",
       "\n",
       "                   grammaire  \n",
       "0               OUV_SEAN_2_1  \n",
       "1       ODJ_APPEL_DISCUSSION  \n",
       "2           PAROLE_GENERIQUE  \n",
       "3           PAROLE_GENERIQUE  \n",
       "4          INTERRUPTION_1_10  \n",
       "...                      ...  \n",
       "312092      PAROLE_GENERIQUE  \n",
       "312093      PAROLE_GENERIQUE  \n",
       "312094      PAROLE_GENERIQUE  \n",
       "312095      PAROLE_GENERIQUE  \n",
       "312096          FIN_SEAN_2_1  \n",
       "\n",
       "[312097 rows x 8 columns]"
      ]
     },
     "execution_count": 75,
     "metadata": {},
     "output_type": "execute_result"
    }
   ],
   "source": [
    "df"
   ]
  },
  {
   "cell_type": "code",
   "execution_count": 76,
   "metadata": {},
   "outputs": [
    {
     "data": {
      "text/plain": [
       "Mme la présidente                                    81699\n",
       "M. le président                                      10729\n",
       "M. Éric Dupond-Moretti                                3333\n",
       "M. Gabriel Attal                                      3002\n",
       "M. Sylvain Maillard                                   2903\n",
       "                                                     ...  \n",
       "M. Christophe Bex et M. Laurent Alexandre                1\n",
       "Mme Maud Bregeon et M. Sylvain Maillard                  1\n",
       "Mme Elsa Faucillon (GDR)                                 1\n",
       "M. Philippe Ballard                                      1\n",
       "M. Joël Giraud et plusieurs députés du groupe Dem        1\n",
       "Name: Nom Orateur, Length: 2255, dtype: int64"
      ]
     },
     "execution_count": 76,
     "metadata": {},
     "output_type": "execute_result"
    }
   ],
   "source": [
    "df['Nom Orateur'].value_counts(dropna = False)"
   ]
  },
  {
   "cell_type": "code",
   "execution_count": 77,
   "metadata": {},
   "outputs": [],
   "source": [
    "df = df[~df['Nom Orateur'].isin(['Mme la présidente', 'M. le président'])]"
   ]
  },
  {
   "cell_type": "code",
   "execution_count": 78,
   "metadata": {},
   "outputs": [
    {
     "data": {
      "text/plain": [
       "M. Éric Dupond-Moretti                                                      3333\n",
       "M. Gabriel Attal                                                            3002\n",
       "M. Sylvain Maillard                                                         2903\n",
       "M. Erwan Balanant                                                           2876\n",
       "M. Benjamin Lucas                                                           2815\n",
       "                                                                            ... \n",
       "M. Éric Bothorel, M. David Amiel, M. Sylvain Maillard et M. Bruno Studer       1\n",
       "M. Fabien Di Filippo et Mme Ségolène Amiot                                     1\n",
       "M. Dino Cinieri, M. Pierre Cordier et M. Maxime Minot                          1\n",
       "M. Romain Daubié                                                               1\n",
       "M. Éric Bothorel, rapporteur et M. Bruno Millienne                             1\n",
       "Name: Nom Orateur, Length: 2253, dtype: int64"
      ]
     },
     "execution_count": 78,
     "metadata": {},
     "output_type": "execute_result"
    }
   ],
   "source": [
    "df['Nom Orateur'].value_counts(dropna = False)"
   ]
  },
  {
   "cell_type": "code",
   "execution_count": 79,
   "metadata": {},
   "outputs": [],
   "source": [
    "def drop_na(df, column):\n",
    "    df = df.dropna(subset= [f'{column}'])\n",
    "    return df"
   ]
  },
  {
   "cell_type": "code",
   "execution_count": 80,
   "metadata": {},
   "outputs": [],
   "source": [
    "df = drop_na(data, 'Texte')"
   ]
  },
  {
   "cell_type": "code",
   "execution_count": 81,
   "metadata": {},
   "outputs": [
    {
     "data": {
      "text/plain": [
       "Nom Orateur     32\n",
       "ID Orateur       0\n",
       "Texte            0\n",
       "Thème Séance     0\n",
       "ID Séance        0\n",
       "Date Séance      0\n",
       "ID Session       0\n",
       "grammaire        0\n",
       "dtype: int64"
      ]
     },
     "execution_count": 81,
     "metadata": {},
     "output_type": "execute_result"
    }
   ],
   "source": [
    "df.isnull().sum()"
   ]
  },
  {
   "cell_type": "code",
   "execution_count": 82,
   "metadata": {},
   "outputs": [
    {
     "data": {
      "text/plain": [
       "(311948, 8)"
      ]
     },
     "execution_count": 82,
     "metadata": {},
     "output_type": "execute_result"
    }
   ],
   "source": [
    "df.shape"
   ]
  },
  {
   "cell_type": "code",
   "execution_count": 83,
   "metadata": {},
   "outputs": [
    {
     "data": {
      "text/plain": [
       "Nom Orateur     32\n",
       "ID Orateur       0\n",
       "Texte            0\n",
       "Thème Séance     0\n",
       "ID Séance        0\n",
       "Date Séance      0\n",
       "ID Session       0\n",
       "grammaire        0\n",
       "dtype: int64"
      ]
     },
     "execution_count": 83,
     "metadata": {},
     "output_type": "execute_result"
    }
   ],
   "source": [
    "df.isnull().sum()"
   ]
  },
  {
   "cell_type": "code",
   "execution_count": 92,
   "metadata": {},
   "outputs": [],
   "source": [
    "def remove_short_sentences(df, n):\n",
    "    def word_count(sentence):\n",
    "        return len(sentence.split())\n",
    "    df = df[df['Texte'].apply(word_count) >= n]\n",
    "    return df"
   ]
  },
  {
   "cell_type": "code",
   "execution_count": 99,
   "metadata": {},
   "outputs": [],
   "source": [
    "def apply_preprocessing(df, punct_opt = True):\n",
    "    def preprocessing(sentence, punct_option = True):\n",
    "        # Removing whitespaces\n",
    "        sentence = sentence.strip()\n",
    "        # Lowercasing\n",
    "        sentence = sentence.lower()\n",
    "        # Removing punctuation\n",
    "        if punct_option == True:\n",
    "            for punctuation in string.punctuation.replace('?','').replace('!',''):\n",
    "                sentence = sentence.replace(punctuation, '')\n",
    "        else:\n",
    "            for punctuation in string.punctuation:\n",
    "                sentence = sentence.replace(punctuation, '')\n",
    "        return sentence\n",
    "    df['Texte'] = df['Texte'].apply(preprocessing)\n",
    "    df['Texte'] = df['Texte'].apply(text_to_word_sequence,filters=string.punctuation.replace('?','').replace('!',''), lower=True, split=' ')\n",
    "    return df"
   ]
  },
  {
   "cell_type": "code",
   "execution_count": 100,
   "metadata": {},
   "outputs": [
    {
     "data": {
      "text/html": [
       "<div>\n",
       "<style scoped>\n",
       "    .dataframe tbody tr th:only-of-type {\n",
       "        vertical-align: middle;\n",
       "    }\n",
       "\n",
       "    .dataframe tbody tr th {\n",
       "        vertical-align: top;\n",
       "    }\n",
       "\n",
       "    .dataframe thead th {\n",
       "        text-align: right;\n",
       "    }\n",
       "</style>\n",
       "<table border=\"1\" class=\"dataframe\">\n",
       "  <thead>\n",
       "    <tr style=\"text-align: right;\">\n",
       "      <th></th>\n",
       "      <th>Nom Orateur</th>\n",
       "      <th>ID Orateur</th>\n",
       "      <th>Texte</th>\n",
       "      <th>Thème Séance</th>\n",
       "      <th>ID Séance</th>\n",
       "      <th>Date Séance</th>\n",
       "      <th>ID Session</th>\n",
       "      <th>grammaire</th>\n",
       "    </tr>\n",
       "  </thead>\n",
       "  <tbody>\n",
       "    <tr>\n",
       "      <th>0</th>\n",
       "      <td>Mme la présidente</td>\n",
       "      <td>719874</td>\n",
       "      <td>La séance est ouverte.</td>\n",
       "      <td>Accélération des procédures liées à la constru...</td>\n",
       "      <td>RUANR5L16S2023IDS26877</td>\n",
       "      <td>lundi 13 mars 2023</td>\n",
       "      <td>SCR5A2023O1</td>\n",
       "      <td>OUV_SEAN_2_1</td>\n",
       "    </tr>\n",
       "    <tr>\n",
       "      <th>1</th>\n",
       "      <td>Mme la présidente</td>\n",
       "      <td>719874</td>\n",
       "      <td>L’ordre du jour appelle la discussion du proje...</td>\n",
       "      <td>Accélération des procédures liées à la constru...</td>\n",
       "      <td>RUANR5L16S2023IDS26877</td>\n",
       "      <td>lundi 13 mars 2023</td>\n",
       "      <td>SCR5A2023O1</td>\n",
       "      <td>ODJ_APPEL_DISCUSSION</td>\n",
       "    </tr>\n",
       "  </tbody>\n",
       "</table>\n",
       "</div>"
      ],
      "text/plain": [
       "         Nom Orateur  ID Orateur  \\\n",
       "0  Mme la présidente      719874   \n",
       "1  Mme la présidente      719874   \n",
       "\n",
       "                                               Texte  \\\n",
       "0                             La séance est ouverte.   \n",
       "1  L’ordre du jour appelle la discussion du proje...   \n",
       "\n",
       "                                        Thème Séance               ID Séance  \\\n",
       "0  Accélération des procédures liées à la constru...  RUANR5L16S2023IDS26877   \n",
       "1  Accélération des procédures liées à la constru...  RUANR5L16S2023IDS26877   \n",
       "\n",
       "          Date Séance   ID Session             grammaire  \n",
       "0  lundi 13 mars 2023  SCR5A2023O1          OUV_SEAN_2_1  \n",
       "1  lundi 13 mars 2023  SCR5A2023O1  ODJ_APPEL_DISCUSSION  "
      ]
     },
     "execution_count": 100,
     "metadata": {},
     "output_type": "execute_result"
    }
   ],
   "source": [
    "df_test = df.head(2)\n",
    "df_test"
   ]
  },
  {
   "cell_type": "code",
   "execution_count": 101,
   "metadata": {},
   "outputs": [
    {
     "name": "stderr",
     "output_type": "stream",
     "text": [
      "/var/folders/mp/99nc3g2s3t192ft55tyrlzdh0000gn/T/ipykernel_56944/1105183339.py:16: SettingWithCopyWarning: \n",
      "A value is trying to be set on a copy of a slice from a DataFrame.\n",
      "Try using .loc[row_indexer,col_indexer] = value instead\n",
      "\n",
      "See the caveats in the documentation: https://pandas.pydata.org/pandas-docs/stable/user_guide/indexing.html#returning-a-view-versus-a-copy\n",
      "  df['Texte'] = df['Texte'].apply(preprocessing)\n",
      "/var/folders/mp/99nc3g2s3t192ft55tyrlzdh0000gn/T/ipykernel_56944/1105183339.py:17: SettingWithCopyWarning: \n",
      "A value is trying to be set on a copy of a slice from a DataFrame.\n",
      "Try using .loc[row_indexer,col_indexer] = value instead\n",
      "\n",
      "See the caveats in the documentation: https://pandas.pydata.org/pandas-docs/stable/user_guide/indexing.html#returning-a-view-versus-a-copy\n",
      "  df['Texte'] = df['Texte'].apply(text_to_word_sequence,filters=string.punctuation.replace('?','').replace('!',''), lower=True, split=' ')\n"
     ]
    },
    {
     "data": {
      "text/html": [
       "<div>\n",
       "<style scoped>\n",
       "    .dataframe tbody tr th:only-of-type {\n",
       "        vertical-align: middle;\n",
       "    }\n",
       "\n",
       "    .dataframe tbody tr th {\n",
       "        vertical-align: top;\n",
       "    }\n",
       "\n",
       "    .dataframe thead th {\n",
       "        text-align: right;\n",
       "    }\n",
       "</style>\n",
       "<table border=\"1\" class=\"dataframe\">\n",
       "  <thead>\n",
       "    <tr style=\"text-align: right;\">\n",
       "      <th></th>\n",
       "      <th>Nom Orateur</th>\n",
       "      <th>ID Orateur</th>\n",
       "      <th>Texte</th>\n",
       "      <th>Thème Séance</th>\n",
       "      <th>ID Séance</th>\n",
       "      <th>Date Séance</th>\n",
       "      <th>ID Session</th>\n",
       "      <th>grammaire</th>\n",
       "    </tr>\n",
       "  </thead>\n",
       "  <tbody>\n",
       "    <tr>\n",
       "      <th>0</th>\n",
       "      <td>Mme la présidente</td>\n",
       "      <td>719874</td>\n",
       "      <td>[la, séance, est, ouverte]</td>\n",
       "      <td>Accélération des procédures liées à la constru...</td>\n",
       "      <td>RUANR5L16S2023IDS26877</td>\n",
       "      <td>lundi 13 mars 2023</td>\n",
       "      <td>SCR5A2023O1</td>\n",
       "      <td>OUV_SEAN_2_1</td>\n",
       "    </tr>\n",
       "    <tr>\n",
       "      <th>1</th>\n",
       "      <td>Mme la présidente</td>\n",
       "      <td>719874</td>\n",
       "      <td>[l’ordre, du, jour, appelle, la, discussion, d...</td>\n",
       "      <td>Accélération des procédures liées à la constru...</td>\n",
       "      <td>RUANR5L16S2023IDS26877</td>\n",
       "      <td>lundi 13 mars 2023</td>\n",
       "      <td>SCR5A2023O1</td>\n",
       "      <td>ODJ_APPEL_DISCUSSION</td>\n",
       "    </tr>\n",
       "  </tbody>\n",
       "</table>\n",
       "</div>"
      ],
      "text/plain": [
       "         Nom Orateur  ID Orateur  \\\n",
       "0  Mme la présidente      719874   \n",
       "1  Mme la présidente      719874   \n",
       "\n",
       "                                               Texte  \\\n",
       "0                         [la, séance, est, ouverte]   \n",
       "1  [l’ordre, du, jour, appelle, la, discussion, d...   \n",
       "\n",
       "                                        Thème Séance               ID Séance  \\\n",
       "0  Accélération des procédures liées à la constru...  RUANR5L16S2023IDS26877   \n",
       "1  Accélération des procédures liées à la constru...  RUANR5L16S2023IDS26877   \n",
       "\n",
       "          Date Séance   ID Session             grammaire  \n",
       "0  lundi 13 mars 2023  SCR5A2023O1          OUV_SEAN_2_1  \n",
       "1  lundi 13 mars 2023  SCR5A2023O1  ODJ_APPEL_DISCUSSION  "
      ]
     },
     "execution_count": 101,
     "metadata": {},
     "output_type": "execute_result"
    }
   ],
   "source": [
    "apply_preprocessing(df_test)"
   ]
  },
  {
   "cell_type": "code",
   "execution_count": 102,
   "metadata": {},
   "outputs": [],
   "source": [
    "import tensorflow_datasets as tfds\n",
    "from tensorflow.keras.preprocessing.text import text_to_word_sequence\n"
   ]
  },
  {
   "cell_type": "code",
   "execution_count": null,
   "metadata": {},
   "outputs": [
    {
     "data": {
      "text/plain": [
       "['i', 'like', 'cheese', '?']"
      ]
     },
     "execution_count": 72,
     "metadata": {},
     "output_type": "execute_result"
    }
   ],
   "source": [
    "test = text_to_word_sequence(\"I like cheese ?\", filters=string.punctuation.replace('?','').replace('!',''), lower=True, split=' ')\n",
    "test"
   ]
  },
  {
   "cell_type": "code",
   "execution_count": null,
   "metadata": {},
   "outputs": [],
   "source": []
  }
 ],
 "metadata": {
  "kernelspec": {
   "display_name": "lewagon",
   "language": "python",
   "name": "python3"
  },
  "language_info": {
   "codemirror_mode": {
    "name": "ipython",
    "version": 3
   },
   "file_extension": ".py",
   "mimetype": "text/x-python",
   "name": "python",
   "nbconvert_exporter": "python",
   "pygments_lexer": "ipython3",
   "version": "3.10.6"
  }
 },
 "nbformat": 4,
 "nbformat_minor": 2
}
