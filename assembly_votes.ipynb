{
 "cells": [
  {
   "cell_type": "code",
   "execution_count": 2,
   "metadata": {},
   "outputs": [],
   "source": [
    "import pandas as pd\n",
    "import numpy as np\n",
    "import matplotlib\n",
    "import matplotlib.pyplot as plt\n",
    "import seaborn as sns"
   ]
  },
  {
   "cell_type": "code",
   "execution_count": 61,
   "metadata": {},
   "outputs": [
    {
     "name": "stdout",
     "output_type": "stream",
     "text": [
      "           Group Members ActeurRef MandatRef CauseVote\n",
      "0       PO800538     170  PA722398  PM797217      None\n",
      "1       PO800538     170    PA2449  PM797046      None\n",
      "2       PO800538     170  PA721880  PM797640      None\n",
      "3       PO800538     170  PA794802  PM797127      None\n",
      "4       PO800538     170  PA721852  PM797565      None\n",
      "...          ...     ...       ...       ...       ...\n",
      "603808  PO800502      22  PA718926  PM796326      None\n",
      "603809  PO800526      22  PA610002  PM797286      None\n",
      "603810  PO800526      22  PA793948  PM796617      None\n",
      "603811  PO800526      22  PA793780  PM796527      None\n",
      "603812  PO800532      20  PA607619  PM796890      None\n",
      "\n",
      "[603813 rows x 5 columns]\n"
     ]
    }
   ],
   "source": [
    "import xml.etree.ElementTree as ET\n",
    "import pandas as pd\n",
    "import os\n",
    "\n",
    "# Directory containing the XML files\n",
    "xml_dir = '/Users/aaronviviani/Downloads/votes assemblee nationale'\n",
    "\n",
    "# Define namespaces (if applicable)\n",
    "namespaces = {'ns': 'http://schemas.assemblee-nationale.fr/referentiel'}\n",
    "\n",
    "# Initialize a list to store all the data\n",
    "all_votes_data = []\n",
    "\n",
    "# Loop over each XML file in the directory\n",
    "for xml_file in os.listdir(xml_dir):\n",
    "    if xml_file.endswith('.xml'):\n",
    "        # Parse the XML file\n",
    "        tree = ET.parse(os.path.join(xml_dir, xml_file))\n",
    "        root = tree.getroot()\n",
    "\n",
    "        # Extract relevant information (as before)\n",
    "        for group in root.findall('.//ns:groupe', namespaces):\n",
    "            group_name = group.find('ns:organeRef', namespaces).text\n",
    "            members = group.find('ns:nombreMembresGroupe', namespaces).text\n",
    "\n",
    "            for votant in group.findall('.//ns:votant', namespaces):\n",
    "                acteur_ref = votant.find('ns:acteurRef', namespaces).text\n",
    "                mandat_ref = votant.find('ns:mandatRef', namespaces).text\n",
    "\n",
    "                # Check if 'causePositionVote' exists before accessing its text\n",
    "                cause_vote_element = votant.find('ns:causePositionVote', namespaces)\n",
    "                cause_vote = cause_vote_element.text if cause_vote_element is not None else None\n",
    "\n",
    "                # Append the data to the list\n",
    "                all_votes_data.append({\n",
    "                    'Group': group_name,\n",
    "                    'Members': members,\n",
    "                    'ActeurRef': acteur_ref,\n",
    "                    'MandatRef': mandat_ref,\n",
    "                    'CauseVote': cause_vote\n",
    "                })\n",
    "\n",
    "# Convert the collected data to a DataFrame\n",
    "df_votes = pd.DataFrame(all_votes_data)\n",
    "\n",
    "# Show the combined DataFrame\n",
    "print(df_votes)\n"
   ]
  },
  {
   "cell_type": "code",
   "execution_count": 62,
   "metadata": {},
   "outputs": [
    {
     "data": {
      "text/html": [
       "<div>\n",
       "<style scoped>\n",
       "    .dataframe tbody tr th:only-of-type {\n",
       "        vertical-align: middle;\n",
       "    }\n",
       "\n",
       "    .dataframe tbody tr th {\n",
       "        vertical-align: top;\n",
       "    }\n",
       "\n",
       "    .dataframe thead th {\n",
       "        text-align: right;\n",
       "    }\n",
       "</style>\n",
       "<table border=\"1\" class=\"dataframe\">\n",
       "  <thead>\n",
       "    <tr style=\"text-align: right;\">\n",
       "      <th></th>\n",
       "      <th>Group</th>\n",
       "      <th>Members</th>\n",
       "      <th>ActeurRef</th>\n",
       "      <th>MandatRef</th>\n",
       "      <th>CauseVote</th>\n",
       "    </tr>\n",
       "  </thead>\n",
       "  <tbody>\n",
       "    <tr>\n",
       "      <th>0</th>\n",
       "      <td>PO800538</td>\n",
       "      <td>170</td>\n",
       "      <td>PA722398</td>\n",
       "      <td>PM797217</td>\n",
       "      <td>None</td>\n",
       "    </tr>\n",
       "    <tr>\n",
       "      <th>1</th>\n",
       "      <td>PO800538</td>\n",
       "      <td>170</td>\n",
       "      <td>PA2449</td>\n",
       "      <td>PM797046</td>\n",
       "      <td>None</td>\n",
       "    </tr>\n",
       "    <tr>\n",
       "      <th>2</th>\n",
       "      <td>PO800538</td>\n",
       "      <td>170</td>\n",
       "      <td>PA721880</td>\n",
       "      <td>PM797640</td>\n",
       "      <td>None</td>\n",
       "    </tr>\n",
       "    <tr>\n",
       "      <th>3</th>\n",
       "      <td>PO800538</td>\n",
       "      <td>170</td>\n",
       "      <td>PA794802</td>\n",
       "      <td>PM797127</td>\n",
       "      <td>None</td>\n",
       "    </tr>\n",
       "    <tr>\n",
       "      <th>4</th>\n",
       "      <td>PO800538</td>\n",
       "      <td>170</td>\n",
       "      <td>PA721852</td>\n",
       "      <td>PM797565</td>\n",
       "      <td>None</td>\n",
       "    </tr>\n",
       "  </tbody>\n",
       "</table>\n",
       "</div>"
      ],
      "text/plain": [
       "      Group Members ActeurRef MandatRef CauseVote\n",
       "0  PO800538     170  PA722398  PM797217      None\n",
       "1  PO800538     170    PA2449  PM797046      None\n",
       "2  PO800538     170  PA721880  PM797640      None\n",
       "3  PO800538     170  PA794802  PM797127      None\n",
       "4  PO800538     170  PA721852  PM797565      None"
      ]
     },
     "execution_count": 62,
     "metadata": {},
     "output_type": "execute_result"
    }
   ],
   "source": [
    "df_votes.head()"
   ]
  },
  {
   "cell_type": "code",
   "execution_count": 63,
   "metadata": {},
   "outputs": [
    {
     "data": {
      "text/html": [
       "<div>\n",
       "<style scoped>\n",
       "    .dataframe tbody tr th:only-of-type {\n",
       "        vertical-align: middle;\n",
       "    }\n",
       "\n",
       "    .dataframe tbody tr th {\n",
       "        vertical-align: top;\n",
       "    }\n",
       "\n",
       "    .dataframe thead th {\n",
       "        text-align: right;\n",
       "    }\n",
       "</style>\n",
       "<table border=\"1\" class=\"dataframe\">\n",
       "  <thead>\n",
       "    <tr style=\"text-align: right;\">\n",
       "      <th></th>\n",
       "      <th>Group</th>\n",
       "      <th>Members</th>\n",
       "      <th>ActeurRef</th>\n",
       "      <th>MandatRef</th>\n",
       "      <th>CauseVote</th>\n",
       "    </tr>\n",
       "  </thead>\n",
       "  <tbody>\n",
       "    <tr>\n",
       "      <th>603808</th>\n",
       "      <td>PO800502</td>\n",
       "      <td>22</td>\n",
       "      <td>PA718926</td>\n",
       "      <td>PM796326</td>\n",
       "      <td>None</td>\n",
       "    </tr>\n",
       "    <tr>\n",
       "      <th>603809</th>\n",
       "      <td>PO800526</td>\n",
       "      <td>22</td>\n",
       "      <td>PA610002</td>\n",
       "      <td>PM797286</td>\n",
       "      <td>None</td>\n",
       "    </tr>\n",
       "    <tr>\n",
       "      <th>603810</th>\n",
       "      <td>PO800526</td>\n",
       "      <td>22</td>\n",
       "      <td>PA793948</td>\n",
       "      <td>PM796617</td>\n",
       "      <td>None</td>\n",
       "    </tr>\n",
       "    <tr>\n",
       "      <th>603811</th>\n",
       "      <td>PO800526</td>\n",
       "      <td>22</td>\n",
       "      <td>PA793780</td>\n",
       "      <td>PM796527</td>\n",
       "      <td>None</td>\n",
       "    </tr>\n",
       "    <tr>\n",
       "      <th>603812</th>\n",
       "      <td>PO800532</td>\n",
       "      <td>20</td>\n",
       "      <td>PA607619</td>\n",
       "      <td>PM796890</td>\n",
       "      <td>None</td>\n",
       "    </tr>\n",
       "  </tbody>\n",
       "</table>\n",
       "</div>"
      ],
      "text/plain": [
       "           Group Members ActeurRef MandatRef CauseVote\n",
       "603808  PO800502      22  PA718926  PM796326      None\n",
       "603809  PO800526      22  PA610002  PM797286      None\n",
       "603810  PO800526      22  PA793948  PM796617      None\n",
       "603811  PO800526      22  PA793780  PM796527      None\n",
       "603812  PO800532      20  PA607619  PM796890      None"
      ]
     },
     "execution_count": 63,
     "metadata": {},
     "output_type": "execute_result"
    }
   ],
   "source": [
    "df_votes.tail()"
   ]
  },
  {
   "cell_type": "code",
   "execution_count": 70,
   "metadata": {},
   "outputs": [
    {
     "data": {
      "text/plain": [
       "PSE    3930\n",
       "PAN      33\n",
       "MG       28\n",
       "Name: CauseVote, dtype: int64"
      ]
     },
     "execution_count": 70,
     "metadata": {},
     "output_type": "execute_result"
    }
   ],
   "source": [
    "df_votes['CauseVote'].value_counts()"
   ]
  },
  {
   "cell_type": "markdown",
   "metadata": {},
   "source": []
  },
  {
   "cell_type": "code",
   "execution_count": null,
   "metadata": {},
   "outputs": [],
   "source": []
  }
 ],
 "metadata": {
  "kernelspec": {
   "display_name": "lewagon",
   "language": "python",
   "name": "python3"
  },
  "language_info": {
   "codemirror_mode": {
    "name": "ipython",
    "version": 3
   },
   "file_extension": ".py",
   "mimetype": "text/x-python",
   "name": "python",
   "nbconvert_exporter": "python",
   "pygments_lexer": "ipython3",
   "version": "3.10.6"
  }
 },
 "nbformat": 4,
 "nbformat_minor": 2
}
