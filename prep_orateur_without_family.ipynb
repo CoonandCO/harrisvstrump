{
 "cells": [
  {
   "cell_type": "code",
   "execution_count": 2,
   "metadata": {},
   "outputs": [],
   "source": [
    "import pandas as pd\n",
    "\n",
    "df_leg16 = pd.read_csv('data/leg16.csv')"
   ]
  },
  {
   "cell_type": "code",
   "execution_count": 3,
   "metadata": {},
   "outputs": [
    {
     "data": {
      "text/html": [
       "<div>\n",
       "<style scoped>\n",
       "    .dataframe tbody tr th:only-of-type {\n",
       "        vertical-align: middle;\n",
       "    }\n",
       "\n",
       "    .dataframe tbody tr th {\n",
       "        vertical-align: top;\n",
       "    }\n",
       "\n",
       "    .dataframe thead th {\n",
       "        text-align: right;\n",
       "    }\n",
       "</style>\n",
       "<table border=\"1\" class=\"dataframe\">\n",
       "  <thead>\n",
       "    <tr style=\"text-align: right;\">\n",
       "      <th></th>\n",
       "      <th>Nom Orateur</th>\n",
       "      <th>Texte</th>\n",
       "      <th>famille</th>\n",
       "    </tr>\n",
       "    <tr>\n",
       "      <th>ID Orateur</th>\n",
       "      <th></th>\n",
       "      <th></th>\n",
       "      <th></th>\n",
       "    </tr>\n",
       "  </thead>\n",
       "  <tbody>\n",
       "    <tr>\n",
       "      <th>720286</th>\n",
       "      <td>Mme la présidente</td>\n",
       "      <td>16327</td>\n",
       "      <td>Extrême gauche</td>\n",
       "    </tr>\n",
       "    <tr>\n",
       "      <th>721908</th>\n",
       "      <td>Mme la présidente</td>\n",
       "      <td>14602</td>\n",
       "      <td>Centre</td>\n",
       "    </tr>\n",
       "    <tr>\n",
       "      <th>609590</th>\n",
       "      <td>Mme la présidente</td>\n",
       "      <td>14577</td>\n",
       "      <td>Gauche</td>\n",
       "    </tr>\n",
       "    <tr>\n",
       "      <th>720908</th>\n",
       "      <td>Mme Naïma Moutchou</td>\n",
       "      <td>13692</td>\n",
       "      <td>Centre-droit</td>\n",
       "    </tr>\n",
       "    <tr>\n",
       "      <th>719874</th>\n",
       "      <td>Mme la présidente</td>\n",
       "      <td>13258</td>\n",
       "      <td>Centre</td>\n",
       "    </tr>\n",
       "    <tr>\n",
       "      <th>...</th>\n",
       "      <td>...</td>\n",
       "      <td>...</td>\n",
       "      <td>...</td>\n",
       "    </tr>\n",
       "    <tr>\n",
       "      <th>-122379</th>\n",
       "      <td>M. François-Noël Buffet</td>\n",
       "      <td>1</td>\n",
       "      <td>None</td>\n",
       "    </tr>\n",
       "    <tr>\n",
       "      <th>795124</th>\n",
       "      <td>M. Didier Padey</td>\n",
       "      <td>1</td>\n",
       "      <td>None</td>\n",
       "    </tr>\n",
       "    <tr>\n",
       "      <th>774952</th>\n",
       "      <td>M. Philippe Benassaya</td>\n",
       "      <td>1</td>\n",
       "      <td>None</td>\n",
       "    </tr>\n",
       "    <tr>\n",
       "      <th>-125159</th>\n",
       "      <td>M. Rouslan Stefantchouk</td>\n",
       "      <td>1</td>\n",
       "      <td>None</td>\n",
       "    </tr>\n",
       "    <tr>\n",
       "      <th>-121669</th>\n",
       "      <td>M. Volodymyr Zelensky</td>\n",
       "      <td>0</td>\n",
       "      <td>None</td>\n",
       "    </tr>\n",
       "  </tbody>\n",
       "</table>\n",
       "<p>729 rows × 3 columns</p>\n",
       "</div>"
      ],
      "text/plain": [
       "                        Nom Orateur  Texte         famille\n",
       "ID Orateur                                                \n",
       " 720286           Mme la présidente  16327  Extrême gauche\n",
       " 721908           Mme la présidente  14602          Centre\n",
       " 609590           Mme la présidente  14577          Gauche\n",
       " 720908          Mme Naïma Moutchou  13692    Centre-droit\n",
       " 719874           Mme la présidente  13258          Centre\n",
       "...                             ...    ...             ...\n",
       "-122379     M. François-Noël Buffet      1            None\n",
       " 795124             M. Didier Padey      1            None\n",
       " 774952       M. Philippe Benassaya      1            None\n",
       "-125159     M. Rouslan Stefantchouk      1            None\n",
       "-121669       M. Volodymyr Zelensky      0            None\n",
       "\n",
       "[729 rows x 3 columns]"
      ]
     },
     "execution_count": 3,
     "metadata": {},
     "output_type": "execute_result"
    }
   ],
   "source": [
    "df_leg16[['ID Orateur','Nom Orateur','Texte','famille']]\\\n",
    ".groupby(by='ID Orateur')\\\n",
    ".agg({'Nom Orateur': 'first', 'Texte':'count','famille': 'first'})\\\n",
    ".sort_values(by='Texte', ascending=False).head(1000)"
   ]
  },
  {
   "cell_type": "code",
   "execution_count": 5,
   "metadata": {},
   "outputs": [],
   "source": [
    "\n",
    "leg16_orateur_without_family = df_leg16[['ID Orateur','Nom Orateur','Texte','famille']][df_leg16['famille'].isna()]\\\n",
    ".groupby(by='ID Orateur')\\\n",
    ".agg({'ID Orateur': 'first','Nom Orateur': 'first', 'Texte':'count'})\\\n",
    ".sort_values(by='Texte', ascending=False)\n",
    "\n",
    "leg16_orateur_without_family.to_csv('data/leg16_orateur_without_family.csv', index=False)"
   ]
  },
  {
   "cell_type": "code",
   "execution_count": 8,
   "metadata": {},
   "outputs": [],
   "source": [
    "df_leg15 = pd.read_csv('data/leg15.csv')"
   ]
  },
  {
   "cell_type": "code",
   "execution_count": 11,
   "metadata": {},
   "outputs": [],
   "source": [
    "leg15_orateur_without_family = df_leg15[['ID Orateur','Nom Orateur','Texte','famille']][df_leg15['famille'].isna()]\\\n",
    ".groupby(by='ID Orateur')\\\n",
    ".agg({'ID Orateur': 'first','Nom Orateur': 'first', 'Texte':'count'})\\\n",
    ".sort_values(by='Texte', ascending=False)\n",
    "\n",
    "leg15_orateur_without_family.to_csv('data/leg15_orateur_without_family.csv', index=False)"
   ]
  },
  {
   "cell_type": "code",
   "execution_count": null,
   "metadata": {},
   "outputs": [],
   "source": []
  }
 ],
 "metadata": {
  "kernelspec": {
   "display_name": "lewagon",
   "language": "python",
   "name": "python3"
  },
  "language_info": {
   "codemirror_mode": {
    "name": "ipython",
    "version": 3
   },
   "file_extension": ".py",
   "mimetype": "text/x-python",
   "name": "python",
   "nbconvert_exporter": "python",
   "pygments_lexer": "ipython3",
   "version": "3.10.6"
  }
 },
 "nbformat": 4,
 "nbformat_minor": 2
}
