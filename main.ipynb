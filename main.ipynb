{
 "cells": [
  {
   "cell_type": "code",
   "execution_count": 1,
   "metadata": {},
   "outputs": [],
   "source": [
    "import pandas as pd\n",
    "import numpy as np\n",
    "import matplotlib.pyplot as plt\n",
    "import seaborn as sns"
   ]
  },
  {
   "cell_type": "code",
   "execution_count": 2,
   "metadata": {},
   "outputs": [],
   "source": [
    "democrats = pd.read_csv('reddit_opinion_democrats.csv')\n",
    "republican = pd.read_csv('reddit_opinion_republican.csv')"
   ]
  },
  {
   "cell_type": "code",
   "execution_count": 3,
   "metadata": {},
   "outputs": [
    {
     "name": "stdout",
     "output_type": "stream",
     "text": [
      "<class 'pandas.core.frame.DataFrame'>\n",
      "RangeIndex: 2392914 entries, 0 to 2392913\n",
      "Data columns (total 24 columns):\n",
      " #   Column                      Dtype  \n",
      "---  ------                      -----  \n",
      " 0   comment_id                  object \n",
      " 1   score                       int64  \n",
      " 2   self_text                   object \n",
      " 3   subreddit                   object \n",
      " 4   created_time                object \n",
      " 5   post_id                     object \n",
      " 6   author_name                 object \n",
      " 7   controversiality            int64  \n",
      " 8   ups                         int64  \n",
      " 9   downs                       int64  \n",
      " 10  user_is_verified            bool   \n",
      " 11  user_account_created_time   object \n",
      " 12  user_awardee_karma          float64\n",
      " 13  user_awarder_karma          float64\n",
      " 14  user_link_karma             float64\n",
      " 15  user_comment_karma          float64\n",
      " 16  user_total_karma            float64\n",
      " 17  post_score                  int64  \n",
      " 18  post_self_text              object \n",
      " 19  post_title                  object \n",
      " 20  post_upvote_ratio           float64\n",
      " 21  post_thumbs_ups             int64  \n",
      " 22  post_total_awards_received  int64  \n",
      " 23  post_created_time           object \n",
      "dtypes: bool(1), float64(6), int64(7), object(10)\n",
      "memory usage: 422.2+ MB\n"
     ]
    }
   ],
   "source": [
    "democrats.info()"
   ]
  },
  {
   "cell_type": "code",
   "execution_count": 4,
   "metadata": {},
   "outputs": [
    {
     "name": "stdout",
     "output_type": "stream",
     "text": [
      "<class 'pandas.core.frame.DataFrame'>\n",
      "RangeIndex: 2920459 entries, 0 to 2920458\n",
      "Data columns (total 24 columns):\n",
      " #   Column                      Dtype  \n",
      "---  ------                      -----  \n",
      " 0   comment_id                  object \n",
      " 1   score                       int64  \n",
      " 2   self_text                   object \n",
      " 3   subreddit                   object \n",
      " 4   created_time                object \n",
      " 5   post_id                     object \n",
      " 6   author_name                 object \n",
      " 7   controversiality            int64  \n",
      " 8   ups                         int64  \n",
      " 9   downs                       int64  \n",
      " 10  user_is_verified            bool   \n",
      " 11  user_account_created_time   object \n",
      " 12  user_awardee_karma          float64\n",
      " 13  user_awarder_karma          float64\n",
      " 14  user_link_karma             float64\n",
      " 15  user_comment_karma          float64\n",
      " 16  user_total_karma            float64\n",
      " 17  post_score                  int64  \n",
      " 18  post_self_text              object \n",
      " 19  post_title                  object \n",
      " 20  post_upvote_ratio           float64\n",
      " 21  post_thumbs_ups             int64  \n",
      " 22  post_total_awards_received  int64  \n",
      " 23  post_created_time           object \n",
      "dtypes: bool(1), float64(6), int64(7), object(10)\n",
      "memory usage: 515.3+ MB\n"
     ]
    }
   ],
   "source": [
    "republican.info()"
   ]
  },
  {
   "cell_type": "code",
   "execution_count": 13,
   "metadata": {},
   "outputs": [
    {
     "name": "stdout",
     "output_type": "stream",
     "text": [
      "(2392914,) (2920459,)\n"
     ]
    }
   ],
   "source": [
    "d_ids = democrats['comment_id'].drop_duplicates()\n",
    "r_ids = republican['comment_id'].drop_duplicates()\n",
    "print(d_ids.shape, r_ids.shape)"
   ]
  },
  {
   "cell_type": "code",
   "execution_count": 6,
   "metadata": {},
   "outputs": [
    {
     "data": {
      "text/plain": [
       "800578"
      ]
     },
     "execution_count": 6,
     "metadata": {},
     "output_type": "execute_result"
    }
   ],
   "source": [
    "pd.Series(np.intersect1d(d_ids, r_ids)).nunique()"
   ]
  },
  {
   "cell_type": "code",
   "execution_count": 10,
   "metadata": {},
   "outputs": [
    {
     "name": "stdout",
     "output_type": "stream",
     "text": [
      "51182\n",
      "61227\n",
      "15783\n"
     ]
    }
   ],
   "source": [
    "print(democrats['post_id'].nunique())\n",
    "print(republican['post_id'].nunique())\n",
    "print(pd.Series(np.intersect1d(democrats['post_id'].drop_duplicates(), republican['post_id'].drop_duplicates())).nunique())"
   ]
  },
  {
   "cell_type": "code",
   "execution_count": 13,
   "metadata": {},
   "outputs": [
    {
     "name": "stdout",
     "output_type": "stream",
     "text": [
      "Democrats\n",
      "                      post_id\n",
      "subreddit                    \n",
      "politics              1011171\n",
      "neoliberal             265917\n",
      "conspiracy             209055\n",
      "changemyview           195186\n",
      "Conservative           173889\n",
      "VoteDEM                105538\n",
      "WhitePeopleTwitter      88188\n",
      "democrats               64176\n",
      "PoliticalHumor          41738\n",
      "Republican              29994\n",
      "WayOfTheBern            28049\n",
      "Libertarian             25516\n",
      "news                    21774\n",
      "AskReddit               21773\n",
      "conservatives           21401\n",
      "Political_Revolution    19747\n",
      "trump                   16755\n",
      "SandersForPresident     14397\n",
      "ShitPoliticsSays        13670\n",
      "uspolitics              10701\n"
     ]
    }
   ],
   "source": [
    "d_subreddits = democrats[['subreddit','post_id']].groupby('subreddit').count().sort_values('post_id', ascending=False)\n",
    "print(\"Democrats\")\n",
    "print(d_subreddits.head(20))"
   ]
  },
  {
   "cell_type": "code",
   "execution_count": 14,
   "metadata": {},
   "outputs": [
    {
     "name": "stdout",
     "output_type": "stream",
     "text": [
      "\n",
      "\n",
      "Republicans\n",
      "                      post_id\n",
      "subreddit                    \n",
      "politics              1652119\n",
      "WhitePeopleTwitter     226974\n",
      "conspiracy             142295\n",
      "PoliticalHumor         127509\n",
      "Conservative           117869\n",
      "neoliberal             114887\n",
      "changemyview           106999\n",
      "democrats               89706\n",
      "VoteDEM                 69177\n",
      "trump                   35707\n",
      "news                    33796\n",
      "Republican              26636\n",
      "AskReddit               24217\n",
      "uspolitics              22957\n",
      "ShitPoliticsSays        22268\n",
      "Libertarian             21888\n",
      "Political_Revolution    17911\n",
      "conservatives           16233\n",
      "WayOfTheBern            14123\n",
      "Republican_misdeeds     11719\n"
     ]
    }
   ],
   "source": [
    "r_subreddits = republican[['subreddit','post_id']].groupby('subreddit').count().sort_values('post_id', ascending=False)\n",
    "print(\"\\n\\nRepublicans\")\n",
    "print(r_subreddits.head(20))"
   ]
  },
  {
   "cell_type": "code",
   "execution_count": null,
   "metadata": {},
   "outputs": [],
   "source": []
  },
  {
   "cell_type": "code",
   "execution_count": 17,
   "metadata": {},
   "outputs": [
    {
     "name": "stdout",
     "output_type": "stream",
     "text": [
      "306831\n",
      "338513\n"
     ]
    }
   ],
   "source": [
    "print(democrats['author_name'].nunique())\n",
    "print(republican['author_name'].nunique())"
   ]
  }
 ],
 "metadata": {
  "kernelspec": {
   "display_name": "lewagon",
   "language": "python",
   "name": "python3"
  },
  "language_info": {
   "codemirror_mode": {
    "name": "ipython",
    "version": 3
   },
   "file_extension": ".py",
   "mimetype": "text/x-python",
   "name": "python",
   "nbconvert_exporter": "python",
   "pygments_lexer": "ipython3",
   "version": "3.10.6"
  }
 },
 "nbformat": 4,
 "nbformat_minor": 2
}
